{
 "cells": [
  {
   "cell_type": "raw",
   "metadata": {},
   "source": [
    "---\n",
    "title: \"Logistic regression\"\n",
    "author: \"alaa alnissany\"\n",
    "date: \"2023-04-22\"\n",
    "categories: [news, code, analysis]\n",
    "image: \"image.jpg\"\n",
    "format: html\n",
    "---"
   ]
  },
  {
   "attachments": {},
   "cell_type": "markdown",
   "metadata": {},
   "source": [
    "# Logistic regression \n",
    "Logistic Regression is classification model commonly used to estimate the probability that an instance belongs to a particular class, and preforms well on the linearly seprable classes. \n"
   ]
  },
  {
   "attachments": {},
   "cell_type": "markdown",
   "metadata": {},
   "source": [
    "\n",
    "## Estimation probabilities\n"
   ]
  },
  {
   "attachments": {},
   "cell_type": "markdown",
   "metadata": {},
   "source": [
    "Logistic Regression computes a weighted sum of input features (plus a bias term), then apply a response function (sigmoid in binary classification problem or soft-max in multinomial logistic classification) which map from real number range to the probability:\n",
    "\n",
    "\\begin{align}\n",
    "        p = h_\\theta(\\mathbf{x}) = \\sigma(\\mathbf{x}^T \\cdot \\mathbf{\\theta}) = \\sigma(\\sum_{i=0}^n \\theta_i x_i) = \\sigma(\\sum_{i=1}^n \\theta_i x_i +\\theta_0)\n",
    "    \\end{align}\n",
    "works like Linear Regression \n",
    "## How are we able to do that?\n",
    "\n",
    "We depend on multi clues, so what are those clues?\n"
   ]
  },
  {
   "cell_type": "code",
   "execution_count": 1,
   "metadata": {},
   "outputs": [],
   "source": [
    "\n",
    "import numpy as np\n",
    "from matplotlib import pyplot as plt\n"
   ]
  },
  {
   "cell_type": "code",
   "execution_count": 2,
   "metadata": {},
   "outputs": [
    {
     "data": {
      "image/png": "[encoded data removed]",
      "text/plain": [
       "<Figure size 432x288 with 1 Axes>"
      ]
     },
     "metadata": {
      "needs_background": "light"
     },
     "output_type": "display_data"
    }
   ],
   "source": [
    "def create_parabolic(a, x_0, s_a, s_b):\n",
    "    def calculate(x):\n",
    "        noise_a = s_a * np.random.randn(x.shape[0])\n",
    "        noise_b = s_b * np.random.randn(x.shape[0])\n",
    "        return (a + noise_a) * (x-x_0 + noise_b)**2\n",
    "    return calculate\n",
    "a = 1\n",
    "x_0 = 0\n",
    "s_a = 0.1\n",
    "s_b = 0.1\n",
    "\n",
    "para_true = create_parabolic(a, x_0, 0, 0)\n",
    "para_noise = create_parabolic(a, x_0, s_a, s_b)\n",
    "x = np.linspace(-3, 3, 100)\n",
    "plt.scatter(x, para_true(x), c='r', label='true_data')\n",
    "plt.scatter(x, para_noise(x), c='k', label='noise_data')\n",
    "plt.title('True data vs Noisy data')\n",
    "plt.legend()\n",
    "plt.grid()\n",
    "plt.show()"
   ]
  },
  {
   "cell_type": "code",
   "execution_count": 3,
   "metadata": {},
   "outputs": [
    {
     "data": {
      "application/vnd.jupyter.widget-view+json": {
       "model_id": "c8a20a8b68de45caab354ae9c5d305af",
       "version_major": 2,
       "version_minor": 0
      },
      "text/plain": [
       "interactive(children=(IntSlider(value=2, description='a_pred', max=6, min=-2), IntSlider(value=2, description=…"
      ]
     },
     "metadata": {},
     "output_type": "display_data"
    }
   ],
   "source": [
    "import ipywidgets as widgets\n",
    "@widgets.interact\n",
    "def fit(a_pred=2, b_pred=2):\n",
    "    func = create_parabolic(a_pred, b_pred, 0, 0)\n",
    "    y_pred = func(x)\n",
    "    y_true = para_noise(x)\n",
    "    loss = np.mean((y_true-y_pred)**2)\n",
    "    plt.scatter(x, y_true, alpha=0.5)\n",
    "    plt.plot(x, y_pred, '-k')\n",
    "    plt.title(f'Loss {loss:.2f}')\n",
    "    "
   ]
  },
  {
   "cell_type": "code",
   "execution_count": null,
   "metadata": {},
   "outputs": [],
   "source": []
  }
 ],
 "metadata": {
  "kernelspec": {
   "display_name": "base",
   "language": "python",
   "name": "python3"
  },
  "language_info": {
   "codemirror_mode": {
    "name": "ipython",
    "version": 3
   },
   "file_extension": ".py",
   "mimetype": "text/x-python",
   "name": "python",
   "nbconvert_exporter": "python",
   "pygments_lexer": "ipython3",
   "version": "3.9.7"
  },
  "orig_nbformat": 4
 },
 "nbformat": 4,
 "nbformat_minor": 2
}
